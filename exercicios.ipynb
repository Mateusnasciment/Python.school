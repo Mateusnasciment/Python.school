{
 "cells": [
  {
   "cell_type": "code",
   "execution_count": 22,
   "metadata": {},
   "outputs": [
    {
     "name": "stdout",
     "output_type": "stream",
     "text": [
      "O valor 1.0m em centimetros é 100cm\n",
      "O valor 1.0m em milimetros é 1000mm\n"
     ]
    }
   ],
   "source": [
    "metros = float(input('Digite o tamanho: '))\n",
    "print('O valor {}m em centimetros é {:.0f}cm'.format(metros, metros * 100))\n",
    "print('O valor {}m em milimetros é {:.0f}mm'.format(metros, metros * 1000))"
   ]
  },
  {
   "cell_type": "markdown",
   "metadata": {},
   "source": [
    "print do  valores em m mm ou cm"
   ]
  },
  {
   "cell_type": "code",
   "execution_count": null,
   "metadata": {},
   "outputs": [],
   "source": []
  }
 ],
 "metadata": {
  "kernelspec": {
   "display_name": "Python 3.9.12 ('base')",
   "language": "python",
   "name": "python3"
  },
  "language_info": {
   "codemirror_mode": {
    "name": "ipython",
    "version": 3
   },
   "file_extension": ".py",
   "mimetype": "text/x-python",
   "name": "python",
   "nbconvert_exporter": "python",
   "pygments_lexer": "ipython3",
   "version": "3.9.12"
  },
  "orig_nbformat": 4,
  "vscode": {
   "interpreter": {
    "hash": "70ba80e9d3f74547108e99e12e0f4b32780e914363672301a91590faf24553b6"
   }
  }
 },
 "nbformat": 4,
 "nbformat_minor": 2
}
